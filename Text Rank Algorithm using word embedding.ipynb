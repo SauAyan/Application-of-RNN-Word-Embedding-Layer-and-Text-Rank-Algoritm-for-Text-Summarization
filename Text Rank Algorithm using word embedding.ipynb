{
 "cells": [
  {
   "cell_type": "code",
   "execution_count": 1,
   "metadata": {},
   "outputs": [
    {
     "name": "stderr",
     "output_type": "stream",
     "text": [
      "C:\\Users\\AYAN\\anaconda3\\ANACONDA_NEW\\lib\\site-packages\\tensorflow\\python\\framework\\dtypes.py:516: FutureWarning: Passing (type, 1) or '1type' as a synonym of type is deprecated; in a future version of numpy, it will be understood as (type, (1,)) / '(1,)type'.\n",
      "  _np_qint8 = np.dtype([(\"qint8\", np.int8, 1)])\n",
      "C:\\Users\\AYAN\\anaconda3\\ANACONDA_NEW\\lib\\site-packages\\tensorflow\\python\\framework\\dtypes.py:517: FutureWarning: Passing (type, 1) or '1type' as a synonym of type is deprecated; in a future version of numpy, it will be understood as (type, (1,)) / '(1,)type'.\n",
      "  _np_quint8 = np.dtype([(\"quint8\", np.uint8, 1)])\n",
      "C:\\Users\\AYAN\\anaconda3\\ANACONDA_NEW\\lib\\site-packages\\tensorflow\\python\\framework\\dtypes.py:518: FutureWarning: Passing (type, 1) or '1type' as a synonym of type is deprecated; in a future version of numpy, it will be understood as (type, (1,)) / '(1,)type'.\n",
      "  _np_qint16 = np.dtype([(\"qint16\", np.int16, 1)])\n",
      "C:\\Users\\AYAN\\anaconda3\\ANACONDA_NEW\\lib\\site-packages\\tensorflow\\python\\framework\\dtypes.py:519: FutureWarning: Passing (type, 1) or '1type' as a synonym of type is deprecated; in a future version of numpy, it will be understood as (type, (1,)) / '(1,)type'.\n",
      "  _np_quint16 = np.dtype([(\"quint16\", np.uint16, 1)])\n",
      "C:\\Users\\AYAN\\anaconda3\\ANACONDA_NEW\\lib\\site-packages\\tensorflow\\python\\framework\\dtypes.py:520: FutureWarning: Passing (type, 1) or '1type' as a synonym of type is deprecated; in a future version of numpy, it will be understood as (type, (1,)) / '(1,)type'.\n",
      "  _np_qint32 = np.dtype([(\"qint32\", np.int32, 1)])\n",
      "C:\\Users\\AYAN\\anaconda3\\ANACONDA_NEW\\lib\\site-packages\\tensorflow\\python\\framework\\dtypes.py:525: FutureWarning: Passing (type, 1) or '1type' as a synonym of type is deprecated; in a future version of numpy, it will be understood as (type, (1,)) / '(1,)type'.\n",
      "  np_resource = np.dtype([(\"resource\", np.ubyte, 1)])\n",
      "C:\\Users\\AYAN\\anaconda3\\ANACONDA_NEW\\lib\\site-packages\\tensorboard\\compat\\tensorflow_stub\\dtypes.py:541: FutureWarning: Passing (type, 1) or '1type' as a synonym of type is deprecated; in a future version of numpy, it will be understood as (type, (1,)) / '(1,)type'.\n",
      "  _np_qint8 = np.dtype([(\"qint8\", np.int8, 1)])\n",
      "C:\\Users\\AYAN\\anaconda3\\ANACONDA_NEW\\lib\\site-packages\\tensorboard\\compat\\tensorflow_stub\\dtypes.py:542: FutureWarning: Passing (type, 1) or '1type' as a synonym of type is deprecated; in a future version of numpy, it will be understood as (type, (1,)) / '(1,)type'.\n",
      "  _np_quint8 = np.dtype([(\"quint8\", np.uint8, 1)])\n",
      "C:\\Users\\AYAN\\anaconda3\\ANACONDA_NEW\\lib\\site-packages\\tensorboard\\compat\\tensorflow_stub\\dtypes.py:543: FutureWarning: Passing (type, 1) or '1type' as a synonym of type is deprecated; in a future version of numpy, it will be understood as (type, (1,)) / '(1,)type'.\n",
      "  _np_qint16 = np.dtype([(\"qint16\", np.int16, 1)])\n",
      "C:\\Users\\AYAN\\anaconda3\\ANACONDA_NEW\\lib\\site-packages\\tensorboard\\compat\\tensorflow_stub\\dtypes.py:544: FutureWarning: Passing (type, 1) or '1type' as a synonym of type is deprecated; in a future version of numpy, it will be understood as (type, (1,)) / '(1,)type'.\n",
      "  _np_quint16 = np.dtype([(\"quint16\", np.uint16, 1)])\n",
      "C:\\Users\\AYAN\\anaconda3\\ANACONDA_NEW\\lib\\site-packages\\tensorboard\\compat\\tensorflow_stub\\dtypes.py:545: FutureWarning: Passing (type, 1) or '1type' as a synonym of type is deprecated; in a future version of numpy, it will be understood as (type, (1,)) / '(1,)type'.\n",
      "  _np_qint32 = np.dtype([(\"qint32\", np.int32, 1)])\n",
      "C:\\Users\\AYAN\\anaconda3\\ANACONDA_NEW\\lib\\site-packages\\tensorboard\\compat\\tensorflow_stub\\dtypes.py:550: FutureWarning: Passing (type, 1) or '1type' as a synonym of type is deprecated; in a future version of numpy, it will be understood as (type, (1,)) / '(1,)type'.\n",
      "  np_resource = np.dtype([(\"resource\", np.ubyte, 1)])\n",
      "[nltk_data] Downloading package punkt to\n",
      "[nltk_data]     C:\\Users\\AYAN\\AppData\\Roaming\\nltk_data...\n",
      "[nltk_data]   Package punkt is already up-to-date!\n"
     ]
    }
   ],
   "source": [
    "import tensorflow as tf\n",
    "from tensorflow.keras.preprocessing.text import one_hot\n",
    "# Import Required Libraries\n",
    "import numpy as np\n",
    "import pandas as pd\n",
    "import nltk\n",
    "\n",
    "# Punkt Sentence Tokenizer. This tokenizer divides a text into a list of sentences\n",
    "nltk.download('punkt') # one time execution\n",
    "import re"
   ]
  },
  {
   "cell_type": "code",
   "execution_count": 2,
   "metadata": {},
   "outputs": [
    {
     "data": {
      "text/html": [
       "<div>\n",
       "<style scoped>\n",
       "    .dataframe tbody tr th:only-of-type {\n",
       "        vertical-align: middle;\n",
       "    }\n",
       "\n",
       "    .dataframe tbody tr th {\n",
       "        vertical-align: top;\n",
       "    }\n",
       "\n",
       "    .dataframe thead th {\n",
       "        text-align: right;\n",
       "    }\n",
       "</style>\n",
       "<table border=\"1\" class=\"dataframe\">\n",
       "  <thead>\n",
       "    <tr style=\"text-align: right;\">\n",
       "      <th></th>\n",
       "      <th>article_id</th>\n",
       "      <th>article_title</th>\n",
       "      <th>article_text</th>\n",
       "      <th>source</th>\n",
       "    </tr>\n",
       "  </thead>\n",
       "  <tbody>\n",
       "    <tr>\n",
       "      <th>0</th>\n",
       "      <td>1</td>\n",
       "      <td>I do not have friends in tennis, says Maria Sh...</td>\n",
       "      <td>Maria Sharapova has basically no friends as te...</td>\n",
       "      <td>https://www.tennisworldusa.org/tennis/news/Mar...</td>\n",
       "    </tr>\n",
       "    <tr>\n",
       "      <th>1</th>\n",
       "      <td>2</td>\n",
       "      <td>Federer defeats Medvedev to advance to 14th Sw...</td>\n",
       "      <td>BASEL, Switzerland (AP) — Roger Federer advanc...</td>\n",
       "      <td>http://www.tennis.com/pro-game/2018/10/copil-s...</td>\n",
       "    </tr>\n",
       "    <tr>\n",
       "      <th>2</th>\n",
       "      <td>3</td>\n",
       "      <td>Tennis: Roger Federer ignored deadline set by ...</td>\n",
       "      <td>Roger Federer has revealed that organisers of ...</td>\n",
       "      <td>https://scroll.in/field/899938/tennis-roger-fe...</td>\n",
       "    </tr>\n",
       "    <tr>\n",
       "      <th>3</th>\n",
       "      <td>4</td>\n",
       "      <td>Nishikori to face off against Anderson in Vien...</td>\n",
       "      <td>Kei Nishikori will try to end his long losing ...</td>\n",
       "      <td>http://www.tennis.com/pro-game/2018/10/nishiko...</td>\n",
       "    </tr>\n",
       "    <tr>\n",
       "      <th>4</th>\n",
       "      <td>5</td>\n",
       "      <td>Roger Federer has made this huge change to ten...</td>\n",
       "      <td>Federer, 37, first broke through on tour over ...</td>\n",
       "      <td>https://www.express.co.uk/sport/tennis/1036101...</td>\n",
       "    </tr>\n",
       "  </tbody>\n",
       "</table>\n",
       "</div>"
      ],
      "text/plain": [
       "   article_id                                      article_title  \\\n",
       "0           1  I do not have friends in tennis, says Maria Sh...   \n",
       "1           2  Federer defeats Medvedev to advance to 14th Sw...   \n",
       "2           3  Tennis: Roger Federer ignored deadline set by ...   \n",
       "3           4  Nishikori to face off against Anderson in Vien...   \n",
       "4           5  Roger Federer has made this huge change to ten...   \n",
       "\n",
       "                                        article_text  \\\n",
       "0  Maria Sharapova has basically no friends as te...   \n",
       "1  BASEL, Switzerland (AP) — Roger Federer advanc...   \n",
       "2  Roger Federer has revealed that organisers of ...   \n",
       "3  Kei Nishikori will try to end his long losing ...   \n",
       "4  Federer, 37, first broke through on tour over ...   \n",
       "\n",
       "                                              source  \n",
       "0  https://www.tennisworldusa.org/tennis/news/Mar...  \n",
       "1  http://www.tennis.com/pro-game/2018/10/copil-s...  \n",
       "2  https://scroll.in/field/899938/tennis-roger-fe...  \n",
       "3  http://www.tennis.com/pro-game/2018/10/nishiko...  \n",
       "4  https://www.express.co.uk/sport/tennis/1036101...  "
      ]
     },
     "execution_count": 2,
     "metadata": {},
     "output_type": "execute_result"
    }
   ],
   "source": [
    "# Read the Data\n",
    "df = pd.read_csv(\"tennis_articles.csv\", encoding='cp1252')\n",
    "df.head()"
   ]
  },
  {
   "cell_type": "code",
   "execution_count": 3,
   "metadata": {},
   "outputs": [
    {
     "data": {
      "text/plain": [
       "\"Maria Sharapova has basically no friends as tennis players on the WTA Tour. The Russian player has no problems in openly speaking about it and in a recent interview she said: 'I don't really hide any feelings too much. I think everyone knows this is my job here. When I'm on the courts or when I'm on the court playing, I'm a competitor and I want to beat every single person whether they're in the locker room or across the net. So I'm not the one to strike up a conversation about the weather and know that in the next few minutes I have to go and try to win a tennis match. I'm a pretty competitive girl. I say my hellos, but I'm not sending any players flowers as well. Uhm, I'm not really friendly or close to many players. I have not a lot of friends away from the courts.' When she said she is not really close to a lot of players, is that something strategic that she is doing? Is it different on the men's tour than the women's tour? 'No, not at all. I think just because you're in the same sport doesn't mean that you have to be friends with everyone just because you're categorized, you're a tennis player, so you're going to get along with tennis players. I think every person has different interests. I have friends that have completely different jobs and interests, and I've met them in very different parts of my life. I think everyone just thinks because we're tennis players we should be the greatest of friends. But ultimately tennis is just a very small part of what we do. There are so many other things that we're interested in, that we do.' ALSO READ: Maria Sharapova reveals how tennis keeps her motivated.\""
      ]
     },
     "execution_count": 3,
     "metadata": {},
     "output_type": "execute_result"
    }
   ],
   "source": [
    "text=df['article_text'][0]\n",
    "text"
   ]
  },
  {
   "cell_type": "code",
   "execution_count": 4,
   "metadata": {},
   "outputs": [
    {
     "data": {
      "text/plain": [
       "['Maria Sharapova has basically no friends as tennis players on the WTA Tour.',\n",
       " \"The Russian player has no problems in openly speaking about it and in a recent interview she said: 'I don't really hide any feelings too much.\",\n",
       " 'I think everyone knows this is my job here.',\n",
       " \"When I'm on the courts or when I'm on the court playing, I'm a competitor and I want to beat every single person whether they're in the locker room or across the net.\",\n",
       " \"So I'm not the one to strike up a conversation about the weather and know that in the next few minutes I have to go and try to win a tennis match.\",\n",
       " \"I'm a pretty competitive girl.\",\n",
       " \"I say my hellos, but I'm not sending any players flowers as well.\",\n",
       " \"Uhm, I'm not really friendly or close to many players.\",\n",
       " \"I have not a lot of friends away from the courts.'\",\n",
       " 'When she said she is not really close to a lot of players, is that something strategic that she is doing?',\n",
       " \"Is it different on the men's tour than the women's tour?\",\n",
       " \"'No, not at all.\",\n",
       " \"I think just because you're in the same sport doesn't mean that you have to be friends with everyone just because you're categorized, you're a tennis player, so you're going to get along with tennis players.\",\n",
       " 'I think every person has different interests.',\n",
       " \"I have friends that have completely different jobs and interests, and I've met them in very different parts of my life.\",\n",
       " \"I think everyone just thinks because we're tennis players we should be the greatest of friends.\",\n",
       " 'But ultimately tennis is just a very small part of what we do.',\n",
       " \"There are so many other things that we're interested in, that we do.'\",\n",
       " 'ALSO READ: Maria Sharapova reveals how tennis keeps her motivated.']"
      ]
     },
     "execution_count": 4,
     "metadata": {},
     "output_type": "execute_result"
    }
   ],
   "source": [
    "import numpy as np\n",
    "# Split Text into Sentences\n",
    "from nltk.tokenize import sent_tokenize # Return a sentence-tokenized copy of text\n",
    "sentences = []\n",
    "sentences.append(sent_tokenize(text))\n",
    "\n",
    "sentences = [y for x in sentences for y in x] # flatten list\n",
    "sentences"
   ]
  },
  {
   "cell_type": "code",
   "execution_count": 5,
   "metadata": {},
   "outputs": [
    {
     "data": {
      "text/plain": [
       "['maria sharapova has basically no friends as tennis players on the wta tour ',\n",
       " 'the russian player has no problems in openly speaking about it and in a recent interview she said   i don t really hide any feelings too much ',\n",
       " 'i think everyone knows this is my job here ',\n",
       " 'when i m on the courts or when i m on the court playing  i m a competitor and i want to beat every single person whether they re in the locker room or across the net ',\n",
       " 'so i m not the one to strike up a conversation about the weather and know that in the next few minutes i have to go and try to win a tennis match ',\n",
       " 'i m a pretty competitive girl ',\n",
       " 'i say my hellos  but i m not sending any players flowers as well ',\n",
       " 'uhm  i m not really friendly or close to many players ',\n",
       " 'i have not a lot of friends away from the courts  ',\n",
       " 'when she said she is not really close to a lot of players  is that something strategic that she is doing ',\n",
       " 'is it different on the men s tour than the women s tour ',\n",
       " ' no  not at all ',\n",
       " 'i think just because you re in the same sport doesn t mean that you have to be friends with everyone just because you re categorized  you re a tennis player  so you re going to get along with tennis players ',\n",
       " 'i think every person has different interests ',\n",
       " 'i have friends that have completely different jobs and interests  and i ve met them in very different parts of my life ',\n",
       " 'i think everyone just thinks because we re tennis players we should be the greatest of friends ',\n",
       " 'but ultimately tennis is just a very small part of what we do ',\n",
       " 'there are so many other things that we re interested in  that we do  ',\n",
       " 'also read  maria sharapova reveals how tennis keeps her motivated ']"
      ]
     },
     "execution_count": 5,
     "metadata": {},
     "output_type": "execute_result"
    }
   ],
   "source": [
    "# Text Preprocessing\n",
    "\n",
    "# remove punctuations, numbers and special characters\n",
    "clean_sentences = pd.Series(sentences).str.replace(\"[^a-zA-Z]\", \" \")\n",
    "\n",
    "# make alphabets lowercase\n",
    "clean_sentences = [s.lower() for s in clean_sentences]\n",
    "\n",
    "clean_sentences"
   ]
  },
  {
   "cell_type": "code",
   "execution_count": 6,
   "metadata": {},
   "outputs": [
    {
     "name": "stderr",
     "output_type": "stream",
     "text": [
      "[nltk_data] Downloading package stopwords to\n",
      "[nltk_data]     C:\\Users\\AYAN\\AppData\\Roaming\\nltk_data...\n",
      "[nltk_data]   Package stopwords is already up-to-date!\n"
     ]
    },
    {
     "data": {
      "text/plain": [
       "['maria sharapova basically friends tennis players wta tour',\n",
       " 'russian player problems openly speaking recent interview said really hide feelings much',\n",
       " 'think everyone knows job',\n",
       " 'courts court playing competitor want beat every single person whether locker room across net',\n",
       " 'one strike conversation weather know next minutes go try win tennis match',\n",
       " 'pretty competitive girl',\n",
       " 'say hellos sending players flowers well',\n",
       " 'uhm really friendly close many players',\n",
       " 'lot friends away courts',\n",
       " 'said really close lot players something strategic',\n",
       " 'different men tour women tour',\n",
       " '',\n",
       " 'think sport mean friends everyone categorized tennis player going get along tennis players',\n",
       " 'think every person different interests',\n",
       " 'friends completely different jobs interests met different parts life',\n",
       " 'think everyone thinks tennis players greatest friends',\n",
       " 'ultimately tennis small part',\n",
       " 'many things interested',\n",
       " 'also read maria sharapova reveals tennis keeps motivated']"
      ]
     },
     "execution_count": 6,
     "metadata": {},
     "output_type": "execute_result"
    }
   ],
   "source": [
    "# Remove stop words\n",
    "\n",
    "nltk.download('stopwords')\n",
    "from nltk.corpus import stopwords\n",
    "stop_words = stopwords.words('english')\n",
    "\n",
    "# function to remove stopwords\n",
    "def remove_stopwords(sen):\n",
    "    sen_new = \" \".join([i for i in sen if i not in stop_words])\n",
    "    return sen_new\n",
    "\n",
    "# remove stopwords from the sentences\n",
    "clean_sentences = [remove_stopwords(r.split()) for r in clean_sentences]\n",
    "\n",
    "clean_sentences"
   ]
  },
  {
   "cell_type": "code",
   "execution_count": 7,
   "metadata": {},
   "outputs": [],
   "source": [
    "# Selecting Vocab Size ie size of dictionary. You can take any values. I am taking 10000 to vectorize words in to whole numbers\n",
    "vocab_size=10000"
   ]
  },
  {
   "cell_type": "code",
   "execution_count": 8,
   "metadata": {},
   "outputs": [
    {
     "name": "stdout",
     "output_type": "stream",
     "text": [
      "[[1617, 4385, 7875, 9512, 1627, 737, 8524, 3169], [6604, 2501, 8228, 8569, 9991, 214, 6786, 8113, 3729, 1653, 395, 6654], [4583, 1941, 2420, 5357], [1329, 9537, 1660, 8592, 3553, 3761, 1282, 3698, 7769, 6826, 6079, 7062, 1022, 2828], [726, 3376, 5203, 2062, 3612, 5557, 7572, 4392, 5056, 3683, 1627, 1026], [1961, 4347, 9100], [9773, 3311, 1070, 737, 8688, 9940], [3036, 3729, 6402, 6120, 3849, 737], [97, 9512, 6963, 1329], [8113, 3729, 6120, 97, 737, 6672, 3473], [8664, 189, 3169, 7159, 3169], [], [4583, 3575, 2495, 9512, 1941, 8727, 1627, 2501, 413, 7974, 219, 1627, 737], [4583, 1282, 7769, 8664, 3695], [9512, 6074, 8664, 4363, 3695, 3331, 8664, 3911, 6845], [4583, 1941, 226, 1627, 737, 1692, 9512], [1757, 1627, 7433, 8689], [3849, 1249, 961], [6375, 2363, 1617, 4385, 3068, 1627, 2956, 7858]]\n"
     ]
    }
   ],
   "source": [
    "# creating the one-hot Representation of the sentence\n",
    "onehot_rep=[one_hot(words,vocab_size) for words in clean_sentences]\n",
    "print(onehot_rep)"
   ]
  },
  {
   "cell_type": "code",
   "execution_count": 9,
   "metadata": {},
   "outputs": [],
   "source": [
    "from tensorflow.keras.preprocessing.sequence import pad_sequences\n",
    "from tensorflow.keras import Sequential\n",
    "from tensorflow.keras.layers import Embedding"
   ]
  },
  {
   "cell_type": "code",
   "execution_count": 10,
   "metadata": {},
   "outputs": [
    {
     "name": "stdout",
     "output_type": "stream",
     "text": [
      "biggest sentence has 92 words\n"
     ]
    }
   ],
   "source": [
    "largest_sen = max(len(sen) for sen in clean_sentences)\n",
    "print('biggest sentence has {} words'.format(largest_sen))"
   ]
  },
  {
   "cell_type": "code",
   "execution_count": 11,
   "metadata": {},
   "outputs": [
    {
     "data": {
      "image/png": "[encoded data removed]",
      "text/plain": [
       "<Figure size 432x288 with 1 Axes>"
      ]
     },
     "metadata": {
      "needs_background": "light"
     },
     "output_type": "display_data"
    }
   ],
   "source": [
    "# find the distribution of length of sentences\n",
    "import matplotlib.pyplot as plt\n",
    "plt.hist([len(s) for s in clean_sentences], bins=50)\n",
    "plt.show()"
   ]
  },
  {
   "cell_type": "code",
   "execution_count": 12,
   "metadata": {},
   "outputs": [
    {
     "name": "stdout",
     "output_type": "stream",
     "text": [
      "[[1617 4385 7875 ...    0    0    0]\n",
      " [6604 2501 8228 ...    0    0    0]\n",
      " [4583 1941 2420 ...    0    0    0]\n",
      " ...\n",
      " [1757 1627 7433 ...    0    0    0]\n",
      " [3849 1249  961 ...    0    0    0]\n",
      " [6375 2363 1617 ...    0    0    0]]\n"
     ]
    }
   ],
   "source": [
    "sent_length=60 # for embedding, all statemets must be of same length\n",
    "# padding to get equallength of sentences to fit in the model\n",
    "embedded_clean_sentence=pad_sequences(onehot_rep,maxlen=sent_length,padding=\"post\") \n",
    "print(embedded_clean_sentence)"
   ]
  },
  {
   "cell_type": "code",
   "execution_count": 13,
   "metadata": {},
   "outputs": [],
   "source": [
    "# lets now set the number of dimensions that we are gonna take as output\n",
    "dim_out=10"
   ]
  },
  {
   "cell_type": "code",
   "execution_count": 14,
   "metadata": {},
   "outputs": [
    {
     "name": "stdout",
     "output_type": "stream",
     "text": [
      "WARNING:tensorflow:From C:\\Users\\AYAN\\anaconda3\\ANACONDA_NEW\\lib\\site-packages\\tensorflow\\python\\keras\\initializers.py:119: calling RandomUniform.__init__ (from tensorflow.python.ops.init_ops) with dtype is deprecated and will be removed in a future version.\n",
      "Instructions for updating:\n",
      "Call initializer instance with the dtype argument instead of passing it to the constructor\n",
      "Model: \"sequential\"\n",
      "_________________________________________________________________\n",
      "Layer (type)                 Output Shape              Param #   \n",
      "=================================================================\n",
      "embedding (Embedding)        (None, 60, 10)            100000    \n",
      "=================================================================\n",
      "Total params: 100,000\n",
      "Trainable params: 100,000\n",
      "Non-trainable params: 0\n",
      "_________________________________________________________________\n"
     ]
    }
   ],
   "source": [
    "# creating the model\n",
    "model=Sequential()\n",
    "model.add(Embedding(vocab_size,dim_out,input_length=sent_length))\n",
    "model.compile('adam','mse')\n",
    "model.summary()\n",
    "          "
   ]
  },
  {
   "cell_type": "code",
   "execution_count": 15,
   "metadata": {},
   "outputs": [
    {
     "data": {
      "text/plain": [
       "array([[[-0.01182208,  0.01107337, -0.01394707, ..., -0.0024423 ,\n",
       "         -0.0287302 , -0.02687112],\n",
       "        [ 0.0418921 ,  0.03185011,  0.04923402, ...,  0.03340634,\n",
       "         -0.0279219 , -0.02354417],\n",
       "        [-0.04733866,  0.02672868,  0.04105821, ...,  0.02724813,\n",
       "          0.03780993,  0.01270619],\n",
       "        ...,\n",
       "        [ 0.01447824,  0.0061031 ,  0.04184644, ..., -0.01457683,\n",
       "         -0.029953  ,  0.01560488],\n",
       "        [ 0.01447824,  0.0061031 ,  0.04184644, ..., -0.01457683,\n",
       "         -0.029953  ,  0.01560488],\n",
       "        [ 0.01447824,  0.0061031 ,  0.04184644, ..., -0.01457683,\n",
       "         -0.029953  ,  0.01560488]],\n",
       "\n",
       "       [[-0.01705927,  0.04244744,  0.04426548, ...,  0.00049045,\n",
       "          0.04650687, -0.03222193],\n",
       "        [-0.0259847 , -0.01594853, -0.04793731, ..., -0.01113355,\n",
       "         -0.028025  ,  0.03363195],\n",
       "        [-0.01744277, -0.03681965,  0.00333387, ...,  0.006057  ,\n",
       "         -0.00620941, -0.0387942 ],\n",
       "        ...,\n",
       "        [ 0.01447824,  0.0061031 ,  0.04184644, ..., -0.01457683,\n",
       "         -0.029953  ,  0.01560488],\n",
       "        [ 0.01447824,  0.0061031 ,  0.04184644, ..., -0.01457683,\n",
       "         -0.029953  ,  0.01560488],\n",
       "        [ 0.01447824,  0.0061031 ,  0.04184644, ..., -0.01457683,\n",
       "         -0.029953  ,  0.01560488]],\n",
       "\n",
       "       [[ 0.01598564, -0.0242638 , -0.0216732 , ..., -0.03450397,\n",
       "          0.03792062,  0.0144898 ],\n",
       "        [ 0.04969386, -0.03479084, -0.02739251, ...,  0.04912969,\n",
       "          0.03835222,  0.04359103],\n",
       "        [-0.0175855 , -0.04892688, -0.00976658, ..., -0.02223426,\n",
       "          0.00263276,  0.02977217],\n",
       "        ...,\n",
       "        [ 0.01447824,  0.0061031 ,  0.04184644, ..., -0.01457683,\n",
       "         -0.029953  ,  0.01560488],\n",
       "        [ 0.01447824,  0.0061031 ,  0.04184644, ..., -0.01457683,\n",
       "         -0.029953  ,  0.01560488],\n",
       "        [ 0.01447824,  0.0061031 ,  0.04184644, ..., -0.01457683,\n",
       "         -0.029953  ,  0.01560488]],\n",
       "\n",
       "       ...,\n",
       "\n",
       "       [[-0.02617798, -0.03776224,  0.00749873, ...,  0.02245026,\n",
       "         -0.0366992 , -0.00607821],\n",
       "        [-0.04885156, -0.0493853 , -0.02154678, ..., -0.03071861,\n",
       "         -0.02095488, -0.00091305],\n",
       "        [ 0.01020888,  0.0380782 , -0.02015444, ..., -0.03101538,\n",
       "         -0.03068099,  0.01406142],\n",
       "        ...,\n",
       "        [ 0.01447824,  0.0061031 ,  0.04184644, ..., -0.01457683,\n",
       "         -0.029953  ,  0.01560488],\n",
       "        [ 0.01447824,  0.0061031 ,  0.04184644, ..., -0.01457683,\n",
       "         -0.029953  ,  0.01560488],\n",
       "        [ 0.01447824,  0.0061031 ,  0.04184644, ..., -0.01457683,\n",
       "         -0.029953  ,  0.01560488]],\n",
       "\n",
       "       [[ 0.03750375, -0.04982976,  0.04871783, ..., -0.04870528,\n",
       "          0.00362428, -0.00660024],\n",
       "        [ 0.044754  , -0.03060529,  0.03351839, ..., -0.00961602,\n",
       "          0.03792686, -0.03592066],\n",
       "        [-0.02063544,  0.00728666,  0.04008082, ...,  0.03867105,\n",
       "          0.04666147, -0.04199   ],\n",
       "        ...,\n",
       "        [ 0.01447824,  0.0061031 ,  0.04184644, ..., -0.01457683,\n",
       "         -0.029953  ,  0.01560488],\n",
       "        [ 0.01447824,  0.0061031 ,  0.04184644, ..., -0.01457683,\n",
       "         -0.029953  ,  0.01560488],\n",
       "        [ 0.01447824,  0.0061031 ,  0.04184644, ..., -0.01457683,\n",
       "         -0.029953  ,  0.01560488]],\n",
       "\n",
       "       [[ 0.02175026, -0.0370133 , -0.01344141, ...,  0.01192553,\n",
       "          0.0392305 ,  0.00985321],\n",
       "        [ 0.04778972,  0.03362537, -0.0132002 , ..., -0.00189809,\n",
       "         -0.03889518, -0.04057534],\n",
       "        [-0.01182208,  0.01107337, -0.01394707, ..., -0.0024423 ,\n",
       "         -0.0287302 , -0.02687112],\n",
       "        ...,\n",
       "        [ 0.01447824,  0.0061031 ,  0.04184644, ..., -0.01457683,\n",
       "         -0.029953  ,  0.01560488],\n",
       "        [ 0.01447824,  0.0061031 ,  0.04184644, ..., -0.01457683,\n",
       "         -0.029953  ,  0.01560488],\n",
       "        [ 0.01447824,  0.0061031 ,  0.04184644, ..., -0.01457683,\n",
       "         -0.029953  ,  0.01560488]]], dtype=float32)"
      ]
     },
     "execution_count": 15,
     "metadata": {},
     "output_type": "execute_result"
    }
   ],
   "source": [
    "model.predict(embedded_clean_sentence)"
   ]
  },
  {
   "cell_type": "code",
   "execution_count": 16,
   "metadata": {},
   "outputs": [
    {
     "data": {
      "text/plain": [
       "'russian player problems openly speaking recent interview said really hide feelings much'"
      ]
     },
     "execution_count": 16,
     "metadata": {},
     "output_type": "execute_result"
    }
   ],
   "source": [
    "clean_sentences[1]"
   ]
  },
  {
   "cell_type": "code",
   "execution_count": 17,
   "metadata": {},
   "outputs": [
    {
     "data": {
      "text/plain": [
       "array([6604, 2501, 8228, 8569, 9991,  214, 6786, 8113, 3729, 1653,  395,\n",
       "       6654,    0,    0,    0,    0,    0,    0,    0,    0,    0,    0,\n",
       "          0,    0,    0,    0,    0,    0,    0,    0,    0,    0,    0,\n",
       "          0,    0,    0,    0,    0,    0,    0,    0,    0,    0,    0,\n",
       "          0,    0,    0,    0,    0,    0,    0,    0,    0,    0,    0,\n",
       "          0,    0,    0,    0,    0])"
      ]
     },
     "execution_count": 17,
     "metadata": {},
     "output_type": "execute_result"
    }
   ],
   "source": [
    "embedded_clean_sentence[1]"
   ]
  },
  {
   "cell_type": "code",
   "execution_count": 18,
   "metadata": {},
   "outputs": [],
   "source": [
    "arary_1=model.predict(embedded_clean_sentence)"
   ]
  },
  {
   "cell_type": "code",
   "execution_count": 19,
   "metadata": {},
   "outputs": [
    {
     "data": {
      "text/plain": [
       "5.0602455"
      ]
     },
     "execution_count": 19,
     "metadata": {},
     "output_type": "execute_result"
    }
   ],
   "source": [
    "weight=np.sum(arary_1[0])\n",
    "weight"
   ]
  },
  {
   "cell_type": "code",
   "execution_count": 20,
   "metadata": {},
   "outputs": [],
   "source": [
    "weight_list=[]\n",
    "sentence_list=[]\n",
    "for i in range(0,len(arary_1)):\n",
    "    weight_list.append(np.sum(arary_1[i]))\n",
    "    sentence_list.append(clean_sentences[i])"
   ]
  },
  {
   "cell_type": "code",
   "execution_count": 21,
   "metadata": {},
   "outputs": [
    {
     "data": {
      "text/plain": [
       "[5.0602455,\n",
       " 4.629329,\n",
       " 5.722543,\n",
       " 4.3497066,\n",
       " 4.655042,\n",
       " 5.493836,\n",
       " 5.353803,\n",
       " 5.0084167,\n",
       " 5.5031457,\n",
       " 5.1911516,\n",
       " 5.169204,\n",
       " 5.9308896,\n",
       " 4.5138946,\n",
       " 5.37226,\n",
       " 4.777948,\n",
       " 4.9775953,\n",
       " 5.080586,\n",
       " 5.750369,\n",
       " 5.486116]"
      ]
     },
     "execution_count": 21,
     "metadata": {},
     "output_type": "execute_result"
    }
   ],
   "source": [
    "weight_list"
   ]
  },
  {
   "cell_type": "code",
   "execution_count": 22,
   "metadata": {},
   "outputs": [
    {
     "data": {
      "text/plain": [
       "['maria sharapova basically friends tennis players wta tour',\n",
       " 'russian player problems openly speaking recent interview said really hide feelings much',\n",
       " 'think everyone knows job',\n",
       " 'courts court playing competitor want beat every single person whether locker room across net',\n",
       " 'one strike conversation weather know next minutes go try win tennis match',\n",
       " 'pretty competitive girl',\n",
       " 'say hellos sending players flowers well',\n",
       " 'uhm really friendly close many players',\n",
       " 'lot friends away courts',\n",
       " 'said really close lot players something strategic',\n",
       " 'different men tour women tour',\n",
       " '',\n",
       " 'think sport mean friends everyone categorized tennis player going get along tennis players',\n",
       " 'think every person different interests',\n",
       " 'friends completely different jobs interests met different parts life',\n",
       " 'think everyone thinks tennis players greatest friends',\n",
       " 'ultimately tennis small part',\n",
       " 'many things interested',\n",
       " 'also read maria sharapova reveals tennis keeps motivated']"
      ]
     },
     "execution_count": 22,
     "metadata": {},
     "output_type": "execute_result"
    }
   ],
   "source": [
    "sentence_list"
   ]
  },
  {
   "cell_type": "code",
   "execution_count": 23,
   "metadata": {},
   "outputs": [],
   "source": [
    "df=pd.DataFrame()\n",
    "df['sentence']=sentence_list\n",
    "df['weight']=weight_list"
   ]
  },
  {
   "cell_type": "code",
   "execution_count": 30,
   "metadata": {},
   "outputs": [
    {
     "data": {
      "text/html": [
       "<div>\n",
       "<style scoped>\n",
       "    .dataframe tbody tr th:only-of-type {\n",
       "        vertical-align: middle;\n",
       "    }\n",
       "\n",
       "    .dataframe tbody tr th {\n",
       "        vertical-align: top;\n",
       "    }\n",
       "\n",
       "    .dataframe thead th {\n",
       "        text-align: right;\n",
       "    }\n",
       "</style>\n",
       "<table border=\"1\" class=\"dataframe\">\n",
       "  <thead>\n",
       "    <tr style=\"text-align: right;\">\n",
       "      <th></th>\n",
       "      <th>sentence</th>\n",
       "      <th>weight</th>\n",
       "    </tr>\n",
       "  </thead>\n",
       "  <tbody>\n",
       "    <tr>\n",
       "      <th>11</th>\n",
       "      <td></td>\n",
       "      <td>5.930890</td>\n",
       "    </tr>\n",
       "    <tr>\n",
       "      <th>17</th>\n",
       "      <td>many things interested</td>\n",
       "      <td>5.750369</td>\n",
       "    </tr>\n",
       "    <tr>\n",
       "      <th>2</th>\n",
       "      <td>think everyone knows job</td>\n",
       "      <td>5.722543</td>\n",
       "    </tr>\n",
       "    <tr>\n",
       "      <th>8</th>\n",
       "      <td>lot friends away courts</td>\n",
       "      <td>5.503146</td>\n",
       "    </tr>\n",
       "    <tr>\n",
       "      <th>5</th>\n",
       "      <td>pretty competitive girl</td>\n",
       "      <td>5.493836</td>\n",
       "    </tr>\n",
       "    <tr>\n",
       "      <th>18</th>\n",
       "      <td>also read maria sharapova reveals tennis keeps...</td>\n",
       "      <td>5.486116</td>\n",
       "    </tr>\n",
       "    <tr>\n",
       "      <th>13</th>\n",
       "      <td>think every person different interests</td>\n",
       "      <td>5.372260</td>\n",
       "    </tr>\n",
       "    <tr>\n",
       "      <th>6</th>\n",
       "      <td>say hellos sending players flowers well</td>\n",
       "      <td>5.353803</td>\n",
       "    </tr>\n",
       "    <tr>\n",
       "      <th>9</th>\n",
       "      <td>said really close lot players something strategic</td>\n",
       "      <td>5.191152</td>\n",
       "    </tr>\n",
       "    <tr>\n",
       "      <th>10</th>\n",
       "      <td>different men tour women tour</td>\n",
       "      <td>5.169204</td>\n",
       "    </tr>\n",
       "    <tr>\n",
       "      <th>16</th>\n",
       "      <td>ultimately tennis small part</td>\n",
       "      <td>5.080586</td>\n",
       "    </tr>\n",
       "    <tr>\n",
       "      <th>0</th>\n",
       "      <td>maria sharapova basically friends tennis playe...</td>\n",
       "      <td>5.060246</td>\n",
       "    </tr>\n",
       "    <tr>\n",
       "      <th>7</th>\n",
       "      <td>uhm really friendly close many players</td>\n",
       "      <td>5.008417</td>\n",
       "    </tr>\n",
       "    <tr>\n",
       "      <th>15</th>\n",
       "      <td>think everyone thinks tennis players greatest ...</td>\n",
       "      <td>4.977595</td>\n",
       "    </tr>\n",
       "    <tr>\n",
       "      <th>14</th>\n",
       "      <td>friends completely different jobs interests me...</td>\n",
       "      <td>4.777948</td>\n",
       "    </tr>\n",
       "    <tr>\n",
       "      <th>4</th>\n",
       "      <td>one strike conversation weather know next minu...</td>\n",
       "      <td>4.655042</td>\n",
       "    </tr>\n",
       "    <tr>\n",
       "      <th>1</th>\n",
       "      <td>russian player problems openly speaking recent...</td>\n",
       "      <td>4.629329</td>\n",
       "    </tr>\n",
       "    <tr>\n",
       "      <th>12</th>\n",
       "      <td>think sport mean friends everyone categorized ...</td>\n",
       "      <td>4.513895</td>\n",
       "    </tr>\n",
       "    <tr>\n",
       "      <th>3</th>\n",
       "      <td>courts court playing competitor want beat ever...</td>\n",
       "      <td>4.349707</td>\n",
       "    </tr>\n",
       "  </tbody>\n",
       "</table>\n",
       "</div>"
      ],
      "text/plain": [
       "                                             sentence    weight\n",
       "11                                                     5.930890\n",
       "17                             many things interested  5.750369\n",
       "2                            think everyone knows job  5.722543\n",
       "8                             lot friends away courts  5.503146\n",
       "5                             pretty competitive girl  5.493836\n",
       "18  also read maria sharapova reveals tennis keeps...  5.486116\n",
       "13             think every person different interests  5.372260\n",
       "6             say hellos sending players flowers well  5.353803\n",
       "9   said really close lot players something strategic  5.191152\n",
       "10                      different men tour women tour  5.169204\n",
       "16                       ultimately tennis small part  5.080586\n",
       "0   maria sharapova basically friends tennis playe...  5.060246\n",
       "7              uhm really friendly close many players  5.008417\n",
       "15  think everyone thinks tennis players greatest ...  4.977595\n",
       "14  friends completely different jobs interests me...  4.777948\n",
       "4   one strike conversation weather know next minu...  4.655042\n",
       "1   russian player problems openly speaking recent...  4.629329\n",
       "12  think sport mean friends everyone categorized ...  4.513895\n",
       "3   courts court playing competitor want beat ever...  4.349707"
      ]
     },
     "execution_count": 30,
     "metadata": {},
     "output_type": "execute_result"
    }
   ],
   "source": [
    "df=df.sort_values(by='weight',ascending=False)\n",
    "df"
   ]
  },
  {
   "cell_type": "code",
   "execution_count": 29,
   "metadata": {},
   "outputs": [
    {
     "data": {
      "text/plain": [
       "'maria sharapova basically friends tennis players wta tour'"
      ]
     },
     "execution_count": 29,
     "metadata": {},
     "output_type": "execute_result"
    }
   ],
   "source": [
    "df['sentence'][0]"
   ]
  },
  {
   "cell_type": "code",
   "execution_count": 35,
   "metadata": {},
   "outputs": [],
   "source": [
    "vocab_size=10000\n",
    "dim_out=10\n",
    "sent_length=100\n",
    "model=Sequential()\n",
    "model.add(Embedding(vocab_size,dim_out,input_length=sent_length))\n",
    "model.compile('adam','mse')\n",
    "\n",
    "# function to remove stopwords\n",
    "def remove_stopwords(sen):\n",
    "    sen_new = \" \".join([i for i in sen if i not in stop_words])\n",
    "    return sen_new\n",
    "\n",
    "def text_summarization(text):\n",
    "    sentences = []\n",
    "    sentences.append(sent_tokenize(text))\n",
    "    sentences = [y for x in sentences for y in x] # flatten list\n",
    "    clean_sentences = pd.Series(sentences).str.replace(\"[^a-zA-Z]\", \" \")\n",
    "    clean_sentences = [s.lower() for s in clean_sentences]\n",
    "    clean_sentences = [remove_stopwords(r.split()) for r in clean_sentences]\n",
    "\n",
    "    vocab_size=10000\n",
    "    onehot_rep=[one_hot(words,vocab_size) for words in clean_sentences]\n",
    "    sent_length=100\n",
    "    # padding to get equallength of sentences to fit in the model\n",
    "    embedded_clean_sentence=pad_sequences(onehot_rep,maxlen=sent_length,padding=\"post\") \n",
    "    arary_1=model.predict(embedded_clean_sentence)\n",
    "    weight_list=[]\n",
    "    sentence_list=[]\n",
    "    for i in range(0,len(arary_1)):\n",
    "        weight_list.append(np.sum(arary_1[i]))\n",
    "        sentence_list.append(clean_sentences[i])\n",
    "    df=pd.DataFrame()\n",
    "    df['sentence']=sentence_list\n",
    "    df['weight']=weight_list \n",
    "    \n",
    "    df.sort_values(by='weight',ascending=False)\n",
    " \n",
    "    return df['sentence'][0]"
   ]
  },
  {
   "cell_type": "code",
   "execution_count": 36,
   "metadata": {},
   "outputs": [
    {
     "data": {
      "text/html": [
       "<div>\n",
       "<style scoped>\n",
       "    .dataframe tbody tr th:only-of-type {\n",
       "        vertical-align: middle;\n",
       "    }\n",
       "\n",
       "    .dataframe tbody tr th {\n",
       "        vertical-align: top;\n",
       "    }\n",
       "\n",
       "    .dataframe thead th {\n",
       "        text-align: right;\n",
       "    }\n",
       "</style>\n",
       "<table border=\"1\" class=\"dataframe\">\n",
       "  <thead>\n",
       "    <tr style=\"text-align: right;\">\n",
       "      <th></th>\n",
       "      <th>article_id</th>\n",
       "      <th>article_title</th>\n",
       "      <th>article_text</th>\n",
       "      <th>source</th>\n",
       "    </tr>\n",
       "  </thead>\n",
       "  <tbody>\n",
       "    <tr>\n",
       "      <th>0</th>\n",
       "      <td>1</td>\n",
       "      <td>I do not have friends in tennis, says Maria Sh...</td>\n",
       "      <td>Maria Sharapova has basically no friends as te...</td>\n",
       "      <td>https://www.tennisworldusa.org/tennis/news/Mar...</td>\n",
       "    </tr>\n",
       "    <tr>\n",
       "      <th>1</th>\n",
       "      <td>2</td>\n",
       "      <td>Federer defeats Medvedev to advance to 14th Sw...</td>\n",
       "      <td>BASEL, Switzerland (AP) — Roger Federer advanc...</td>\n",
       "      <td>http://www.tennis.com/pro-game/2018/10/copil-s...</td>\n",
       "    </tr>\n",
       "    <tr>\n",
       "      <th>2</th>\n",
       "      <td>3</td>\n",
       "      <td>Tennis: Roger Federer ignored deadline set by ...</td>\n",
       "      <td>Roger Federer has revealed that organisers of ...</td>\n",
       "      <td>https://scroll.in/field/899938/tennis-roger-fe...</td>\n",
       "    </tr>\n",
       "    <tr>\n",
       "      <th>3</th>\n",
       "      <td>4</td>\n",
       "      <td>Nishikori to face off against Anderson in Vien...</td>\n",
       "      <td>Kei Nishikori will try to end his long losing ...</td>\n",
       "      <td>http://www.tennis.com/pro-game/2018/10/nishiko...</td>\n",
       "    </tr>\n",
       "    <tr>\n",
       "      <th>4</th>\n",
       "      <td>5</td>\n",
       "      <td>Roger Federer has made this huge change to ten...</td>\n",
       "      <td>Federer, 37, first broke through on tour over ...</td>\n",
       "      <td>https://www.express.co.uk/sport/tennis/1036101...</td>\n",
       "    </tr>\n",
       "  </tbody>\n",
       "</table>\n",
       "</div>"
      ],
      "text/plain": [
       "   article_id                                      article_title  \\\n",
       "0           1  I do not have friends in tennis, says Maria Sh...   \n",
       "1           2  Federer defeats Medvedev to advance to 14th Sw...   \n",
       "2           3  Tennis: Roger Federer ignored deadline set by ...   \n",
       "3           4  Nishikori to face off against Anderson in Vien...   \n",
       "4           5  Roger Federer has made this huge change to ten...   \n",
       "\n",
       "                                        article_text  \\\n",
       "0  Maria Sharapova has basically no friends as te...   \n",
       "1  BASEL, Switzerland (AP) — Roger Federer advanc...   \n",
       "2  Roger Federer has revealed that organisers of ...   \n",
       "3  Kei Nishikori will try to end his long losing ...   \n",
       "4  Federer, 37, first broke through on tour over ...   \n",
       "\n",
       "                                              source  \n",
       "0  https://www.tennisworldusa.org/tennis/news/Mar...  \n",
       "1  http://www.tennis.com/pro-game/2018/10/copil-s...  \n",
       "2  https://scroll.in/field/899938/tennis-roger-fe...  \n",
       "3  http://www.tennis.com/pro-game/2018/10/nishiko...  \n",
       "4  https://www.express.co.uk/sport/tennis/1036101...  "
      ]
     },
     "execution_count": 36,
     "metadata": {},
     "output_type": "execute_result"
    }
   ],
   "source": [
    "# Read the Data\n",
    "df_texts = pd.read_csv(\"tennis_articles.csv\", encoding='cp1252')\n",
    "df_texts.head()"
   ]
  },
  {
   "cell_type": "code",
   "execution_count": 37,
   "metadata": {},
   "outputs": [
    {
     "data": {
      "text/html": [
       "<div>\n",
       "<style scoped>\n",
       "    .dataframe tbody tr th:only-of-type {\n",
       "        vertical-align: middle;\n",
       "    }\n",
       "\n",
       "    .dataframe tbody tr th {\n",
       "        vertical-align: top;\n",
       "    }\n",
       "\n",
       "    .dataframe thead th {\n",
       "        text-align: right;\n",
       "    }\n",
       "</style>\n",
       "<table border=\"1\" class=\"dataframe\">\n",
       "  <thead>\n",
       "    <tr style=\"text-align: right;\">\n",
       "      <th></th>\n",
       "      <th>article_text</th>\n",
       "      <th>summary</th>\n",
       "    </tr>\n",
       "  </thead>\n",
       "  <tbody>\n",
       "    <tr>\n",
       "      <th>0</th>\n",
       "      <td>Maria Sharapova has basically no friends as te...</td>\n",
       "      <td>maria sharapova basically friends tennis playe...</td>\n",
       "    </tr>\n",
       "    <tr>\n",
       "      <th>1</th>\n",
       "      <td>BASEL, Switzerland (AP) — Roger Federer advanc...</td>\n",
       "      <td>basel switzerland ap roger federer advanced th...</td>\n",
       "    </tr>\n",
       "    <tr>\n",
       "      <th>2</th>\n",
       "      <td>Roger Federer has revealed that organisers of ...</td>\n",
       "      <td>roger federer revealed organisers launched con...</td>\n",
       "    </tr>\n",
       "    <tr>\n",
       "      <th>3</th>\n",
       "      <td>Kei Nishikori will try to end his long losing ...</td>\n",
       "      <td>kei nishikori try end long losing streak atp f...</td>\n",
       "    </tr>\n",
       "    <tr>\n",
       "      <th>4</th>\n",
       "      <td>Federer, 37, first broke through on tour over ...</td>\n",
       "      <td>federer first broke tour two decades ago since...</td>\n",
       "    </tr>\n",
       "    <tr>\n",
       "      <th>5</th>\n",
       "      <td>Nadal has not played tennis since he was force...</td>\n",
       "      <td>nadal played tennis since forced retire us ope...</td>\n",
       "    </tr>\n",
       "    <tr>\n",
       "      <th>6</th>\n",
       "      <td>Tennis giveth, and tennis taketh away. The end...</td>\n",
       "      <td>tennis giveth tennis taketh away</td>\n",
       "    </tr>\n",
       "    <tr>\n",
       "      <th>7</th>\n",
       "      <td>I PLAYED golf last week with Todd Reid. He pic...</td>\n",
       "      <td>played golf last week todd reid</td>\n",
       "    </tr>\n",
       "  </tbody>\n",
       "</table>\n",
       "</div>"
      ],
      "text/plain": [
       "                                        article_text  \\\n",
       "0  Maria Sharapova has basically no friends as te...   \n",
       "1  BASEL, Switzerland (AP) — Roger Federer advanc...   \n",
       "2  Roger Federer has revealed that organisers of ...   \n",
       "3  Kei Nishikori will try to end his long losing ...   \n",
       "4  Federer, 37, first broke through on tour over ...   \n",
       "5  Nadal has not played tennis since he was force...   \n",
       "6  Tennis giveth, and tennis taketh away. The end...   \n",
       "7  I PLAYED golf last week with Todd Reid. He pic...   \n",
       "\n",
       "                                             summary  \n",
       "0  maria sharapova basically friends tennis playe...  \n",
       "1  basel switzerland ap roger federer advanced th...  \n",
       "2  roger federer revealed organisers launched con...  \n",
       "3  kei nishikori try end long losing streak atp f...  \n",
       "4  federer first broke tour two decades ago since...  \n",
       "5  nadal played tennis since forced retire us ope...  \n",
       "6                   tennis giveth tennis taketh away  \n",
       "7                    played golf last week todd reid  "
      ]
     },
     "execution_count": 37,
     "metadata": {},
     "output_type": "execute_result"
    }
   ],
   "source": [
    "df_texts['summary']=df_texts['article_text'].apply(text_summarization)\n",
    "df_final=df_texts[['article_text','summary']]\n",
    "df_final"
   ]
  },
  {
   "cell_type": "code",
   "execution_count": 38,
   "metadata": {},
   "outputs": [
    {
     "data": {
      "text/plain": [
       "'maria sharapova basically friends tennis players wta tour. basel switzerland ap roger federer advanced th swiss indoors final career beating seventh seeded daniil medvedev saturday. roger federer revealed organisers launched condensed davis cup gave three days decide would commit controversial competition. kei nishikori try end long losing streak atp finals kevin anderson go second title year erste bank open sunday. federer first broke tour two decades ago since gone enjoy glittering career. nadal played tennis since forced retire us open semi finals juan martin del porto knee injury. tennis giveth tennis taketh away. played golf last week todd reid'"
      ]
     },
     "execution_count": 38,
     "metadata": {},
     "output_type": "execute_result"
    }
   ],
   "source": [
    "# so if we want to get the summary of the articles combined\n",
    "'. '.join(df_final['summary'].to_list())"
   ]
  },
  {
   "cell_type": "code",
   "execution_count": null,
   "metadata": {},
   "outputs": [],
   "source": [
    "# So here we get summary of all the Articles put together"
   ]
  }
 ],
 "metadata": {
  "kernelspec": {
   "display_name": "Python 3",
   "language": "python",
   "name": "python3"
  },
  "language_info": {
   "codemirror_mode": {
    "name": "ipython",
    "version": 3
   },
   "file_extension": ".py",
   "mimetype": "text/x-python",
   "name": "python",
   "nbconvert_exporter": "python",
   "pygments_lexer": "ipython3",
   "version": "3.7.6"
  }
 },
 "nbformat": 4,
 "nbformat_minor": 4
}
